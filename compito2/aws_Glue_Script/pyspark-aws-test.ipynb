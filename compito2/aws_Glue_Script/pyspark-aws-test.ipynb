{
 "cells": [
  {
   "cell_type": "code",
   "execution_count": 1,
   "metadata": {},
   "outputs": [],
   "source": [
    "#### import and spark init\n",
    "\n",
    "import sys\n",
    "import json\n",
    "import pyspark\n",
    "from pyspark.sql.functions import col, collect_list, array_join\n",
    "from pyspark.context import SparkContext\n",
    "from pyspark.sql import SparkSession\n",
    "from pyspark.sql.functions import length\n",
    "\n",
    "sc = SparkContext.getOrCreate()\n",
    "spark = SparkSession.builder.getOrCreate()"
   ]
  },
  {
   "cell_type": "code",
   "execution_count": 2,
   "metadata": {},
   "outputs": [
    {
     "name": "stdout",
     "output_type": "stream",
     "text": [
      "root\n",
      " |-- idx: string (nullable = true)\n",
      " |-- main_speaker: string (nullable = true)\n",
      " |-- title: string (nullable = true)\n",
      " |-- details: string (nullable = true)\n",
      " |-- posted: string (nullable = true)\n",
      " |-- url: string (nullable = true)\n",
      " |-- num_views: string (nullable = true)\n",
      "\n",
      "Number of items from RAW DATA 4494\n",
      "Number of items from RAW DATA with NOT NULL KEY 4444\n",
      "Number of items filtered: 50\n"
     ]
    }
   ],
   "source": [
    "tedx_dataset_path = \"./tedx_dataset.csv\"\n",
    "\n",
    "## READ TEDX DATASET\n",
    "tedx_dataset = spark.read \\\n",
    "    .option(\"header\",\"true\") \\\n",
    "    .option(\"quote\", \"\\\"\") \\\n",
    "    .option(\"escape\", \"\\\"\") \\\n",
    "    .csv(tedx_dataset_path)\n",
    "    \n",
    "tedx_dataset.printSchema()\n",
    "\n",
    "#### CHECK FILTER ITEMS WITH NULL POSTING KEY\n",
    "count_items = tedx_dataset.count()\n",
    "#count_items_null = tedx_dataset.filter(\"url is not null\").count()\n",
    "count_items_null = tedx_dataset.filter(\"url like 'http%'\").count()\n",
    "\n",
    "print(f\"Number of items from RAW DATA {count_items}\")\n",
    "print(f\"Number of items from RAW DATA with NOT NULL KEY {count_items_null}\")\n",
    "print(f\"Number of items filtered: {count_items-count_items_null}\")"
   ]
  },
  {
   "cell_type": "code",
   "execution_count": 3,
   "metadata": {},
   "outputs": [
    {
     "name": "stdout",
     "output_type": "stream",
     "text": [
      "root\n",
      " |-- idx: string (nullable = true)\n",
      " |-- main_speaker: string (nullable = true)\n",
      " |-- title: string (nullable = true)\n",
      " |-- details: string (nullable = true)\n",
      " |-- posted: string (nullable = true)\n",
      " |-- url: string (nullable = true)\n",
      " |-- num_views: string (nullable = true)\n",
      "\n"
     ]
    }
   ],
   "source": [
    "#### filter TEDx dataset on url field\n",
    "tedx_dataset_filtered = tedx_dataset.filter(\"url like 'http%'\")\n",
    "tedx_dataset_filtered.printSchema()"
   ]
  },
  {
   "cell_type": "code",
   "execution_count": 4,
   "metadata": {
    "scrolled": true
   },
   "outputs": [
    {
     "name": "stdout",
     "output_type": "stream",
     "text": [
      "root\n",
      " |-- idx: string (nullable = true)\n",
      " |-- main_speaker: string (nullable = true)\n",
      " |-- title: string (nullable = true)\n",
      " |-- details: string (nullable = true)\n",
      " |-- posted: string (nullable = true)\n",
      " |-- url: string (nullable = true)\n",
      " |-- num_views: string (nullable = true)\n",
      " |-- tags: array (nullable = true)\n",
      " |    |-- element: string (containsNull = true)\n",
      "\n",
      "+--------------------+--------------------+--------------------+--------------------+\n",
      "|                 idx|        main_speaker|               title|                 url|\n",
      "+--------------------+--------------------+--------------------+--------------------+\n",
      "|8d2005ec35280deb6...|      Alexandra Auer|The intangible ef...|https://www.ted.c...|\n",
      "|b3072cd11f40eb57f...|   Elizabeth Gilbert|It's OK to feel o...|https://www.ted.c...|\n",
      "|4adc9fee977fa04c3...|        Butterscotch|   \"Accept Who I Am\"|https://www.ted.c...|\n",
      "|59c641a72b495d522...|          Ethan Lisi|What it's really ...|https://www.ted.c...|\n",
      "|d227f2faf6ec185e5...|       Daniel Finkel|Can you solve the...|https://www.ted.c...|\n",
      "|fe612cc9179e038f9...|         Matt Walker|Why sleep matters...|https://www.ted.c...|\n",
      "|6e67b6ad4cc6b420f...|          Sonia Shah|How to make pande...|https://www.ted.c...|\n",
      "|c593d7fd658f9ff5b...| Mary Ellen Hannibal|How you can help ...|https://www.ted.c...|\n",
      "|8c1fad5ce0dab8908...|       Todd Dufresne|History vs. Sigmu...|https://www.ted.c...|\n",
      "|5be32167a2dcc0847...|Rabbi Lord Jonath...|How we can naviga...|https://www.ted.c...|\n",
      "|fa2133f1e5a865a5a...|        Martha Minow|How forgiveness c...|https://www.ted.c...|\n",
      "|586938c5a53d9b916...|        Priya Parker|How to create mea...|https://www.ted.c...|\n",
      "|09704782c2fd58e91...|        Alex Gendler|How the world's l...|https://www.ted.c...|\n",
      "|9d3f203c5a8a124ec...|       Alicia Malone|The overlooked le...|https://www.ted.c...|\n",
      "|c8a830e0143916293...|       Kathy Kleiman|The pioneering wo...|https://www.ted.c...|\n",
      "|f5ae6143fa79ba55d...|        Seth Berkley|The quest for the...|https://www.ted.c...|\n",
      "|0cdccbb0c544e4909...|Hindou Oumarou Ib...|Indigenous knowle...|https://www.ted.c...|\n",
      "|2b48856a1e68b1dea...|            Gary Liu|What the world ca...|https://www.ted.c...|\n",
      "|50e3e579db0eef68a...|         Anees Bahji|What is schizophr...|https://www.ted.c...|\n",
      "|66dccf5471154abd3...|      Noeline Kirabo|2 questions to un...|https://www.ted.c...|\n",
      "+--------------------+--------------------+--------------------+--------------------+\n",
      "only showing top 20 rows\n",
      "\n"
     ]
    }
   ],
   "source": [
    "#### READ TAGS DATASET\n",
    "tags_dataset_path = \"./tags_dataset.csv\"\n",
    "tags_dataset = spark.read.option(\"header\", \"true\").csv(tags_dataset_path)\n",
    "\n",
    "#### CREATE THE AGGREGATE MODEL, ADD TAGS TO TEDX_DATASET\n",
    "tags_dataset_agg = tags_dataset.groupBy(col(\"idx\").alias(\"idx_ref\")).agg(collect_list(\"tag\").alias(\"tags\"))\n",
    "tedx_dataset_agg = tedx_dataset_filtered.join(tags_dataset_agg, tedx_dataset.idx == tags_dataset_agg.idx_ref, \"left\").drop(\"idx_ref\")\n",
    "\n",
    "tedx_dataset_agg.printSchema()\n",
    "tedx_dataset_agg.select(col('idx'), col('main_speaker'), col('title'), col('url')).show()"
   ]
  },
  {
   "cell_type": "code",
   "execution_count": 5,
   "metadata": {
    "scrolled": true
   },
   "outputs": [
    {
     "name": "stdout",
     "output_type": "stream",
     "text": [
      "root\n",
      " |-- idx: string (nullable = true)\n",
      " |-- url: string (nullable = true)\n",
      " |-- watch_next_idx: string (nullable = true)\n",
      "\n"
     ]
    }
   ],
   "source": [
    "#### READ WATCH NEXT DATASET\n",
    "\n",
    "watch_next_path = \"./watch_next_dataset.csv\"\n",
    "wn_dataset = spark.read.option(\"header\",\"true\").csv(watch_next_path)\n",
    "\n",
    "wn_dataset.printSchema()"
   ]
  },
  {
   "cell_type": "code",
   "execution_count": 6,
   "metadata": {},
   "outputs": [
    {
     "name": "stdout",
     "output_type": "stream",
     "text": [
      "Pre drop duplicated: 77364\n",
      "After drop duplicated: 30254\n",
      "Dropped: 47110\n"
     ]
    }
   ],
   "source": [
    "#### DROPPING DUPLICATE\n",
    "\n",
    "wn_count = wn_dataset.count()\n",
    "print(f\"Pre drop duplicated: {wn_count}\")\n",
    "wn_dataset = wn_dataset.dropDuplicates()\n",
    "print(f\"After drop duplicated: {wn_dataset.count()}\")\n",
    "print(f\"Dropped: {wn_count-wn_dataset.count()}\")"
   ]
  },
  {
   "cell_type": "code",
   "execution_count": 7,
   "metadata": {
    "scrolled": false
   },
   "outputs": [
    {
     "name": "stdout",
     "output_type": "stream",
     "text": [
      "Number of items PRE 30254\n",
      "Number of items AFTER 25788\n",
      "Number of items filtered: 4466\n",
      "different bad id: 1\n",
      "bad watch_next_id: \n",
      "+--------------------------------+\n",
      "|watch_next_idx                  |\n",
      "+--------------------------------+\n",
      "|9f7b1654e792011b7e1c6f4288520226|\n",
      "+--------------------------------+\n",
      "\n",
      "search for bad_id in talks: \n",
      "+---+------------+-----+-------+------+---+---------+----+\n",
      "|idx|main_speaker|title|details|posted|url|num_views|tags|\n",
      "+---+------------+-----+-------+------+---+---------+----+\n",
      "+---+------------+-----+-------+------+---+---------+----+\n",
      "\n"
     ]
    }
   ],
   "source": [
    "#### FILTER BAD URL\n",
    "\n",
    "count_items = wn_dataset.count()\n",
    "count_items_good = wn_dataset.filter(\"url not like 'https://www.ted.com/session/new?%'\").count()\n",
    "\n",
    "print(f\"Number of items PRE {count_items}\")\n",
    "print(f\"Number of items AFTER {count_items_good}\")\n",
    "print(f\"Number of items filtered: {count_items-count_items_good}\")\n",
    "\n",
    "#### bad url row has a watch_next_id that's not in talk id list - can be safely removed, no info lost\n",
    "bad_id = wn_dataset.filter(\"url like 'https://www.ted.com/session/new?%'\").select(\"watch_next_idx\").dropDuplicates()\n",
    "print(f\"different bad id: {bad_id.count()}\")\n",
    "print(f\"bad watch_next_id: \")\n",
    "bad_id.show(1, False)\n",
    "#### search bad_id in talks\n",
    "print(f\"search for bad_id in talks: \")\n",
    "tedx_dataset_agg.filter(\"idx = '9f7b1654e792011b7e1c6f4288520226'\").show()\n",
    "\n",
    "#### filter bad id\n",
    "wn_dataset = wn_dataset.filter(\"url not like 'https://www.ted.com/session/new?%'\")"
   ]
  },
  {
   "cell_type": "code",
   "execution_count": 8,
   "metadata": {
    "scrolled": false
   },
   "outputs": [
    {
     "name": "stdout",
     "output_type": "stream",
     "text": [
      "root\n",
      " |-- idx_wn: string (nullable = true)\n",
      " |-- watch_next_ids: array (nullable = true)\n",
      " |    |-- element: string (containsNull = true)\n",
      "\n",
      "root\n",
      " |-- _id: string (nullable = true)\n",
      " |-- main_speaker: string (nullable = true)\n",
      " |-- title: string (nullable = true)\n",
      " |-- details: string (nullable = true)\n",
      " |-- posted: string (nullable = true)\n",
      " |-- url: string (nullable = true)\n",
      " |-- num_views: string (nullable = true)\n",
      " |-- tags: array (nullable = true)\n",
      " |    |-- element: string (containsNull = true)\n",
      " |-- watch_next_ids: array (nullable = true)\n",
      " |    |-- element: string (containsNull = true)\n",
      "\n",
      "+--------------------+--------------------+\n",
      "|                 _id|      watch_next_ids|\n",
      "+--------------------+--------------------+\n",
      "|8d2005ec35280deb6...|[fe35edd737282ab3...|\n",
      "|b3072cd11f40eb57f...|[46a2254c4eda643c...|\n",
      "|4adc9fee977fa04c3...|[edb909effab18969...|\n",
      "|59c641a72b495d522...|[267958f897f12551...|\n",
      "|d227f2faf6ec185e5...|[b8cdfc4eb7713a40...|\n",
      "|fe612cc9179e038f9...|[cf6c51cfc4d748c6...|\n",
      "|6e67b6ad4cc6b420f...|[34c18c78deb9e4a7...|\n",
      "|c593d7fd658f9ff5b...|[c4ef6e7dddcd1e2b...|\n",
      "|8c1fad5ce0dab8908...|[ba6ec23bd2132189...|\n",
      "|5be32167a2dcc0847...|[396f4daa2aa5b76b...|\n",
      "|fa2133f1e5a865a5a...|[fc7e034529bbea81...|\n",
      "|586938c5a53d9b916...|[a0469162f7f15fe9...|\n",
      "|09704782c2fd58e91...|[322fec9c9085abe1...|\n",
      "|9d3f203c5a8a124ec...|[1701287275e0a53b...|\n",
      "|c8a830e0143916293...|[f83fef8ac49df7c3...|\n",
      "|f5ae6143fa79ba55d...|[d76a64163ba63feb...|\n",
      "|0cdccbb0c544e4909...|[75660e71c93d4b13...|\n",
      "|2b48856a1e68b1dea...|[a37c23fd1a4a6545...|\n",
      "|50e3e579db0eef68a...|[2f6f58166368fc81...|\n",
      "|66dccf5471154abd3...|[6b62f974f6187d19...|\n",
      "+--------------------+--------------------+\n",
      "only showing top 20 rows\n",
      "\n"
     ]
    }
   ],
   "source": [
    "# CREATE THE AGGREGATE MODEL, ADD WATCH NEXT TO TEDX_DATASET\n",
    "\n",
    "wn_dataset_agg = wn_dataset.groupBy(col(\"idx\").alias(\"idx_wn\")).agg(collect_list(\"watch_next_idx\").alias(\"watch_next_ids\"))\n",
    "wn_dataset_agg.printSchema()\n",
    "tedx_dataset_aggf = tedx_dataset_agg.join(wn_dataset_agg, tedx_dataset_agg.idx == wn_dataset_agg.idx_wn, \"left\") \\\n",
    ".drop(\"idx_wn\") \\\n",
    ".select(col(\"idx\").alias(\"_id\"), col(\"*\")) \\\n",
    ".drop(\"idx\") \\\n",
    "\n",
    "tedx_dataset_aggf.printSchema()\n",
    "tedx_dataset_aggf.select(col('_id'), col('watch_next_ids')).show()"
   ]
  }
 ],
 "metadata": {
  "kernelspec": {
   "display_name": "Python 3",
   "language": "python",
   "name": "python3"
  },
  "language_info": {
   "codemirror_mode": {
    "name": "ipython",
    "version": 3
   },
   "file_extension": ".py",
   "mimetype": "text/x-python",
   "name": "python",
   "nbconvert_exporter": "python",
   "pygments_lexer": "ipython3",
   "version": "3.7.6"
  }
 },
 "nbformat": 4,
 "nbformat_minor": 4
}
